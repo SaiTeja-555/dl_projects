{
 "cells": [
  {
   "cell_type": "code",
   "execution_count": 26,
   "id": "3ea37031",
   "metadata": {},
   "outputs": [],
   "source": [
    "import numpy as np\n",
    "import pandas as pd\n",
    "import seaborn as sns\n",
    "import matplotlib.pyplot as plt"
   ]
  },
  {
   "cell_type": "code",
   "execution_count": 85,
   "id": "d74f16ad",
   "metadata": {},
   "outputs": [
    {
     "data": {
      "text/html": [
       "<div>\n",
       "<style scoped>\n",
       "    .dataframe tbody tr th:only-of-type {\n",
       "        vertical-align: middle;\n",
       "    }\n",
       "\n",
       "    .dataframe tbody tr th {\n",
       "        vertical-align: top;\n",
       "    }\n",
       "\n",
       "    .dataframe thead th {\n",
       "        text-align: right;\n",
       "    }\n",
       "</style>\n",
       "<table border=\"1\" class=\"dataframe\">\n",
       "  <thead>\n",
       "    <tr style=\"text-align: right;\">\n",
       "      <th></th>\n",
       "      <th>Id</th>\n",
       "      <th>SepalLengthCm</th>\n",
       "      <th>SepalWidthCm</th>\n",
       "      <th>PetalLengthCm</th>\n",
       "      <th>PetalWidthCm</th>\n",
       "      <th>Species</th>\n",
       "    </tr>\n",
       "  </thead>\n",
       "  <tbody>\n",
       "    <tr>\n",
       "      <th>29</th>\n",
       "      <td>30</td>\n",
       "      <td>4.7</td>\n",
       "      <td>3.2</td>\n",
       "      <td>1.6</td>\n",
       "      <td>0.2</td>\n",
       "      <td>Iris-setosa</td>\n",
       "    </tr>\n",
       "    <tr>\n",
       "      <th>23</th>\n",
       "      <td>24</td>\n",
       "      <td>5.1</td>\n",
       "      <td>3.3</td>\n",
       "      <td>1.7</td>\n",
       "      <td>0.5</td>\n",
       "      <td>Iris-setosa</td>\n",
       "    </tr>\n",
       "    <tr>\n",
       "      <th>113</th>\n",
       "      <td>114</td>\n",
       "      <td>5.7</td>\n",
       "      <td>2.5</td>\n",
       "      <td>5.0</td>\n",
       "      <td>2.0</td>\n",
       "      <td>Iris-virginica</td>\n",
       "    </tr>\n",
       "    <tr>\n",
       "      <th>143</th>\n",
       "      <td>144</td>\n",
       "      <td>6.8</td>\n",
       "      <td>3.2</td>\n",
       "      <td>5.9</td>\n",
       "      <td>2.3</td>\n",
       "      <td>Iris-virginica</td>\n",
       "    </tr>\n",
       "    <tr>\n",
       "      <th>133</th>\n",
       "      <td>134</td>\n",
       "      <td>6.3</td>\n",
       "      <td>2.8</td>\n",
       "      <td>5.1</td>\n",
       "      <td>1.5</td>\n",
       "      <td>Iris-virginica</td>\n",
       "    </tr>\n",
       "  </tbody>\n",
       "</table>\n",
       "</div>"
      ],
      "text/plain": [
       "      Id  SepalLengthCm  SepalWidthCm  PetalLengthCm  PetalWidthCm  \\\n",
       "29    30            4.7           3.2            1.6           0.2   \n",
       "23    24            5.1           3.3            1.7           0.5   \n",
       "113  114            5.7           2.5            5.0           2.0   \n",
       "143  144            6.8           3.2            5.9           2.3   \n",
       "133  134            6.3           2.8            5.1           1.5   \n",
       "\n",
       "            Species  \n",
       "29      Iris-setosa  \n",
       "23      Iris-setosa  \n",
       "113  Iris-virginica  \n",
       "143  Iris-virginica  \n",
       "133  Iris-virginica  "
      ]
     },
     "execution_count": 85,
     "metadata": {},
     "output_type": "execute_result"
    }
   ],
   "source": [
    "data  = pd.read_csv('Iris.csv')\n",
    "data = data.sample(frac = 1)\n",
    "data.head()\n"
   ]
  },
  {
   "cell_type": "code",
   "execution_count": 86,
   "id": "2548fb1f",
   "metadata": {},
   "outputs": [],
   "source": [
    "labels = {\"Iris-setosa\":[1, 0, 0], \"Iris-versicolor\":[0, 1, 0], \"Iris-virginica\":[0, 0, 1] }\n",
    "n = 150\n",
    "outputs = 3\n",
    "X = np.array(data.iloc[:,1:5])\n",
    "temp = np.ones(n)\n",
    "temp.shape = n, 1\n",
    "X = np.concatenate((temp,X), axis=1)\n",
    "Y = []\n",
    "for cell in np.array(data.iloc[:,5:]):\n",
    "    Y.append(labels[cell[0]])\n",
    "Y = np.array(Y)\n"
   ]
  },
  {
   "cell_type": "code",
   "execution_count": 87,
   "id": "ac4391dd",
   "metadata": {},
   "outputs": [],
   "source": [
    "def cal_label(y):\n",
    "    for i in range(outputs):\n",
    "        if(y[i] == 1):\n",
    "            return i"
   ]
  },
  {
   "cell_type": "code",
   "execution_count": 88,
   "id": "bfd50985",
   "metadata": {},
   "outputs": [],
   "source": [
    "def softmax(a):\n",
    "    temp_a = np.exp(a)\n",
    "#     print(\"temp_a\", temp_a)\n",
    "    return temp_a/sum(temp_a)"
   ]
  },
  {
   "cell_type": "code",
   "execution_count": 89,
   "id": "a1366224",
   "metadata": {},
   "outputs": [],
   "source": [
    "def loss(y_pred, y):\n",
    "    err = 0\n",
    "    for i in range(y.shape[0]):\n",
    "        l = cal_label(y[i])\n",
    "        err += -np.log(y_pred[i][l])\n",
    "    return err"
   ]
  },
  {
   "cell_type": "code",
   "execution_count": 90,
   "id": "872750f9",
   "metadata": {},
   "outputs": [],
   "source": [
    "def e(i, l):\n",
    "    if(i == l):\n",
    "        return 1\n",
    "    else:\n",
    "        return 0"
   ]
  },
  {
   "cell_type": "code",
   "execution_count": 91,
   "id": "d1052104",
   "metadata": {},
   "outputs": [],
   "source": [
    "def grad(x, y, h):\n",
    "    l = cal_label(y)\n",
    "    dh = np.array([-e(i, l)/h[i] for i in range(outputs)])\n",
    "    da = np.array([-(e(i, l)-h[i]) for i in range(outputs)])\n",
    "    x.shape = 1, 5\n",
    "    da.shape = 3, 1\n",
    "    dw = da@x\n",
    "    return dw"
   ]
  },
  {
   "cell_type": "code",
   "execution_count": 92,
   "id": "7913301a",
   "metadata": {},
   "outputs": [],
   "source": [
    "mean = X.mean(axis=0)\n",
    "var = X.var(axis=0)\n",
    "for i in range(n):\n",
    "    X[i][1:] = np.true_divide((X[i][1:]-mean[1:]), var[1:])"
   ]
  },
  {
   "cell_type": "code",
   "execution_count": 93,
   "id": "74d6eea6",
   "metadata": {},
   "outputs": [],
   "source": [
    "def do_gradient_descent(eta=0.005, max_epochs=1000, eps = 0.00005):\n",
    "    all_w, all_error = [], []\n",
    "    weights = np.array([np.random.normal(size=5) for i in range(outputs)]) # four weights for each feature  and one bias\n",
    "    \n",
    "    for i in range(max_epochs):\n",
    "        \n",
    "        # farward propagation\n",
    "        y_pred = []\n",
    "        for x, y in zip(X, Y):\n",
    "            a = weights@x\n",
    "            h = softmax(a)\n",
    "            y_pred.append(h)\n",
    "        y_pred = np.array(y_pred)\n",
    "        error = loss(y_pred, Y)/n\n",
    "        \n",
    "        # backward propagation\n",
    "        dw = np.zeros((3, 5))\n",
    "        for x, y, y_p in zip(X, Y, y_pred):\n",
    "            dw += grad(x, y, y_p)\n",
    "            \n",
    "        # weight updation\n",
    "        weights = weights - eta*dw\n",
    "        \n",
    "        all_w.append(weights)\n",
    "        all_error.append(error)\n",
    "        if i>0 and abs(error-all_error[i-1]) < eps:\n",
    "            print(\"Broke at epoch \", i+1)\n",
    "            break\n",
    "\n",
    "    # plotting graphs\n",
    "    y_true = [np.argmax(y) for y in Y]\n",
    "    y_pred = [np.argmax(y) for y in y_pred]\n",
    "    cp = 0\n",
    "    icp = 0\n",
    "    conf_mat = [[0 for i in range(outputs)] for j in range(outputs)]\n",
    "    for y_t, y_p in zip(y_true, y_pred):\n",
    "        if y_t == y_p:\n",
    "            cp += 1\n",
    "        else:\n",
    "            icp += 1\n",
    "        conf_mat[y_t][y_p] += 1\n",
    "    acc = (cp)*100/(cp+icp)\n",
    "    print(\"Accuracy = \", acc)\n",
    "    \n",
    "    sns.heatmap(conf_mat , annot=True , xticklabels= labels.keys() , yticklabels=labels.keys())\n",
    "    plt.title(\"Confusion Matrix\")\n",
    "    plt.ylabel(\"Label\")\n",
    "    plt.xlabel(\"Predicted\")\n",
    "    plt.show()\n",
    "    \n",
    "    plt.title(\"Error Vs No. of epochs\")\n",
    "    plt.xlabel(\"No. of epochs\")\n",
    "    plt.ylabel(\"Error\")\n",
    "    plt.plot(np.arange(2, len(all_error)+1), all_error[1:], color=\"red\")\n",
    "    plt.show()    \n",
    "    "
   ]
  },
  {
   "cell_type": "code",
   "execution_count": 94,
   "id": "b96a396f",
   "metadata": {},
   "outputs": [
    {
     "name": "stdout",
     "output_type": "stream",
     "text": [
      "Broke at epoch  456\n",
      "Accuracy =  96.66666666666667\n"
     ]
    },
    {
     "data": {
      "image/png": "[encoded data removed]",
      "text/plain": [
       "<Figure size 432x288 with 2 Axes>"
      ]
     },
     "metadata": {
      "needs_background": "light"
     },
     "output_type": "display_data"
    },
    {
     "data": {
      "image/png": "[encoded data removed]",
      "text/plain": [
       "<Figure size 432x288 with 1 Axes>"
      ]
     },
     "metadata": {
      "needs_background": "light"
     },
     "output_type": "display_data"
    }
   ],
   "source": [
    "do_gradient_descent()"
   ]
  },
  {
   "cell_type": "code",
   "execution_count": null,
   "id": "7f581c6a",
   "metadata": {},
   "outputs": [],
   "source": []
  }
 ],
 "metadata": {
  "kernelspec": {
   "display_name": "Python 3 (ipykernel)",
   "language": "python",
   "name": "python3"
  },
  "language_info": {
   "codemirror_mode": {
    "name": "ipython",
    "version": 3
   },
   "file_extension": ".py",
   "mimetype": "text/x-python",
   "name": "python",
   "nbconvert_exporter": "python",
   "pygments_lexer": "ipython3",
   "version": "3.10.4"
  }
 },
 "nbformat": 4,
 "nbformat_minor": 5
}
